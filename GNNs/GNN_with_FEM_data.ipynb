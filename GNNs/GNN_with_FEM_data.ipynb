{
  "nbformat": 4,
  "nbformat_minor": 0,
  "metadata": {
    "colab": {
      "provenance": [],
      "gpuType": "T4"
    },
    "kernelspec": {
      "name": "python3",
      "display_name": "Python 3"
    },
    "language_info": {
      "name": "python"
    },
    "accelerator": "GPU"
  },
  "cells": [
    {
      "cell_type": "code",
      "execution_count": 16,
      "metadata": {
        "id": "TgmrWqRujLo1",
        "colab": {
          "base_uri": "https://localhost:8080/"
        },
        "outputId": "50bfa384-2e21-443a-e78a-b903160a8a40"
      },
      "outputs": [
        {
          "output_type": "stream",
          "name": "stdout",
          "text": [
            "cuda\n"
          ]
        }
      ],
      "source": [
        "import torch\n",
        "from torch_geometric.data import Data\n",
        "from torch.nn import Sequential, Linear, ReLU, Tanh\n",
        "from torch_geometric.nn import NNConv\n",
        "from torch_geometric.loader import DataLoader\n",
        "import numpy as np\n",
        "\n",
        "\n",
        "device = torch.device('cuda' if torch.cuda.is_available() else 'cpu')\n",
        "print(device)\n",
        "# Example graph with 4 edges\n",
        "# edge_index = torch.tensor([[0, 1, 2, 3], [1, 2, 3, 4]], dtype=torch.long)\n",
        "\n",
        "# # Edge features (distance, conductivity, etc.)\n",
        "# edge_features = torch.tensor([[0.1, 1.5], [0.2, 1.0], [0.3, 0.8], [0.4, 1.2]], dtype=torch.float)\n",
        "\n",
        "# # Node features (3 features per node)\n",
        "# node_features = torch.rand(5, 3)\n",
        "\n",
        "# graph_data = Data(x=node_features, edge_index=edge_index, edge_attr=edge_features)"
      ]
    },
    {
      "cell_type": "code",
      "source": [
        "# !pip install torch_geometric"
      ],
      "metadata": {
        "colab": {
          "base_uri": "https://localhost:8080/"
        },
        "id": "p4x6xuIkmVfE",
        "outputId": "58ca5428-754f-4e4c-ad74-c7d7e4c769ca"
      },
      "execution_count": 1,
      "outputs": [
        {
          "output_type": "stream",
          "name": "stdout",
          "text": [
            "Collecting torch_geometric\n",
            "  Downloading torch_geometric-2.6.1-py3-none-any.whl.metadata (63 kB)\n",
            "\u001b[?25l     \u001b[90m━━━━━━━━━━━━━━━━━━━━━━━━━━━━━━━━━━━━━━━━\u001b[0m \u001b[32m0.0/63.1 kB\u001b[0m \u001b[31m?\u001b[0m eta \u001b[36m-:--:--\u001b[0m\r\u001b[2K     \u001b[90m━━━━━━━━━━━━━━━━━━━━━━━━━━━━━━━━━━━━━━━━\u001b[0m \u001b[32m63.1/63.1 kB\u001b[0m \u001b[31m3.0 MB/s\u001b[0m eta \u001b[36m0:00:00\u001b[0m\n",
            "\u001b[?25hRequirement already satisfied: aiohttp in /usr/local/lib/python3.11/dist-packages (from torch_geometric) (3.11.11)\n",
            "Requirement already satisfied: fsspec in /usr/local/lib/python3.11/dist-packages (from torch_geometric) (2024.10.0)\n",
            "Requirement already satisfied: jinja2 in /usr/local/lib/python3.11/dist-packages (from torch_geometric) (3.1.5)\n",
            "Requirement already satisfied: numpy in /usr/local/lib/python3.11/dist-packages (from torch_geometric) (1.26.4)\n",
            "Requirement already satisfied: psutil>=5.8.0 in /usr/local/lib/python3.11/dist-packages (from torch_geometric) (5.9.5)\n",
            "Requirement already satisfied: pyparsing in /usr/local/lib/python3.11/dist-packages (from torch_geometric) (3.2.1)\n",
            "Requirement already satisfied: requests in /usr/local/lib/python3.11/dist-packages (from torch_geometric) (2.32.3)\n",
            "Requirement already satisfied: tqdm in /usr/local/lib/python3.11/dist-packages (from torch_geometric) (4.67.1)\n",
            "Requirement already satisfied: aiohappyeyeballs>=2.3.0 in /usr/local/lib/python3.11/dist-packages (from aiohttp->torch_geometric) (2.4.4)\n",
            "Requirement already satisfied: aiosignal>=1.1.2 in /usr/local/lib/python3.11/dist-packages (from aiohttp->torch_geometric) (1.3.2)\n",
            "Requirement already satisfied: attrs>=17.3.0 in /usr/local/lib/python3.11/dist-packages (from aiohttp->torch_geometric) (25.1.0)\n",
            "Requirement already satisfied: frozenlist>=1.1.1 in /usr/local/lib/python3.11/dist-packages (from aiohttp->torch_geometric) (1.5.0)\n",
            "Requirement already satisfied: multidict<7.0,>=4.5 in /usr/local/lib/python3.11/dist-packages (from aiohttp->torch_geometric) (6.1.0)\n",
            "Requirement already satisfied: propcache>=0.2.0 in /usr/local/lib/python3.11/dist-packages (from aiohttp->torch_geometric) (0.2.1)\n",
            "Requirement already satisfied: yarl<2.0,>=1.17.0 in /usr/local/lib/python3.11/dist-packages (from aiohttp->torch_geometric) (1.18.3)\n",
            "Requirement already satisfied: MarkupSafe>=2.0 in /usr/local/lib/python3.11/dist-packages (from jinja2->torch_geometric) (3.0.2)\n",
            "Requirement already satisfied: charset-normalizer<4,>=2 in /usr/local/lib/python3.11/dist-packages (from requests->torch_geometric) (3.4.1)\n",
            "Requirement already satisfied: idna<4,>=2.5 in /usr/local/lib/python3.11/dist-packages (from requests->torch_geometric) (3.10)\n",
            "Requirement already satisfied: urllib3<3,>=1.21.1 in /usr/local/lib/python3.11/dist-packages (from requests->torch_geometric) (2.3.0)\n",
            "Requirement already satisfied: certifi>=2017.4.17 in /usr/local/lib/python3.11/dist-packages (from requests->torch_geometric) (2024.12.14)\n",
            "Downloading torch_geometric-2.6.1-py3-none-any.whl (1.1 MB)\n",
            "\u001b[2K   \u001b[90m━━━━━━━━━━━━━━━━━━━━━━━━━━━━━━━━━━━━━━━━\u001b[0m \u001b[32m1.1/1.1 MB\u001b[0m \u001b[31m22.7 MB/s\u001b[0m eta \u001b[36m0:00:00\u001b[0m\n",
            "\u001b[?25hInstalling collected packages: torch_geometric\n",
            "Successfully installed torch_geometric-2.6.1\n"
          ]
        }
      ]
    },
    {
      "cell_type": "markdown",
      "source": [
        "**Running on Colab**\n",
        "*   Need to pip install torch_geometric\n",
        "*   Correct the filename as needed.\n",
        "\n",
        "\n"
      ],
      "metadata": {
        "id": "mppG47fBSvHw"
      }
    },
    {
      "cell_type": "code",
      "source": [
        "import h5py\n",
        "\n",
        "filename = \"./sample_data/Initial_test2.h5\"\n",
        "# T_output = []\n",
        "# edge_distances = []\n",
        "# edge_mappings = []\n",
        "# one_hot_features = []\n",
        "graphs = []\n",
        "# scale_T = 5000\n",
        "\n",
        "with h5py.File(filename, \"r\") as f:\n",
        "    h5_graphs = list(f.keys())\n",
        "    # for key in f.keys():\n",
        "    for i in range(len(h5_graphs)):\n",
        "        print(h5_graphs[i])\n",
        "        graph = h5_graphs[i]\n",
        "\n",
        "        T_output = f[graph][\"Temperature\"][()]\n",
        "        edge_distances = (f[graph][\"edge_distance\"][()])\n",
        "        edge_mappings = f[graph][\"edge_mappings\"][()] - 1 #adjusting for Python Indexing\n",
        "        one_hot_features = f[graph][\"one_hot_features\"][()]\n",
        "\n",
        "        T_output = np.log1p(T_output)\n",
        "        print(np.max(T_output))\n",
        "        print(T_output.shape)\n",
        "        # print(edge_distances.shape)\n",
        "        # print(edge_mappings.shape)\n",
        "        # print(one_hot_features.shape)\n",
        "\n",
        "        #\n",
        "\n",
        "        edge_mappings = edge_mappings.astype(np.int64)\n",
        "\n",
        "        graphs.append(Data(\n",
        "        x= torch.from_numpy(one_hot_features.reshape(-1,3)).float(),\n",
        "        edge_index=torch.from_numpy(edge_mappings.reshape(2,-1)),\n",
        "        edge_attr=torch.from_numpy(edge_distances.reshape(-1,1)).float(),  # 1 feature distance\n",
        "        y=torch.from_numpy(T_output.reshape(-1,1)).float()  # Target output for each node\n",
        "        ))\n",
        "\n",
        "loader = DataLoader(graphs, batch_size=2, shuffle=True)"
      ],
      "metadata": {
        "colab": {
          "base_uri": "https://localhost:8080/"
        },
        "id": "a3qKEbTMhtCc",
        "outputId": "87a23944-95fa-4e0a-8ad5-d4feffe176a5"
      },
      "execution_count": 17,
      "outputs": [
        {
          "output_type": "stream",
          "name": "stdout",
          "text": [
            "graph_1\n",
            "1.534118694545857\n",
            "(1, 360)\n",
            "graph_10\n",
            "0.3831775200970455\n",
            "(1, 95)\n",
            "graph_2\n",
            "0.8260139907191517\n",
            "(1, 224)\n",
            "graph_3\n",
            "0.9608185904891002\n",
            "(1, 224)\n",
            "graph_4\n",
            "1.6607249212473791\n",
            "(1, 122)\n",
            "graph_5\n",
            "1.206044015343921\n",
            "(1, 291)\n",
            "graph_6\n",
            "0.16038780340489261\n",
            "(1, 122)\n",
            "graph_7\n",
            "0.3831741633234894\n",
            "(1, 95)\n",
            "graph_8\n",
            "0.7350542591993495\n",
            "(1, 176)\n",
            "graph_9\n",
            "0.9602539448393923\n",
            "(1, 137)\n"
          ]
        }
      ]
    },
    {
      "cell_type": "code",
      "source": [
        "class EdgeFeatureGNN(torch.nn.Module):\n",
        "    def __init__(self, input_dim, hidden_dim, edge_feature_dim, output_dim):\n",
        "        super().__init__()\n",
        "\n",
        "        # Output size of edge_nn must match (hidden_dim * input_dim)\n",
        "        edge_nn_1 = Sequential(\n",
        "            Linear(edge_feature_dim, hidden_dim * input_dim),\n",
        "            # Linear(edge_feature_dim, edge_feature_dim),\n",
        "            ReLU()\n",
        "        )\n",
        "\n",
        "        edge_nn_2 = Sequential(\n",
        "            Linear(edge_feature_dim, hidden_dim * hidden_dim),\n",
        "            # Linear(edge_feature_dim, edge_feature_dim),\n",
        "            ReLU()\n",
        "        )\n",
        "\n",
        "        self.conv1 = NNConv(input_dim, hidden_dim, edge_nn_1, aggr='mean')\n",
        "        self.conv2 = NNConv(hidden_dim, hidden_dim, edge_nn_2, aggr='mean')\n",
        "\n",
        "        self.fc = Linear(hidden_dim, output_dim)\n",
        "\n",
        "    def forward(self, data):\n",
        "        x, edge_index, edge_attr = data.x, data.edge_index, data.edge_attr\n",
        "        # print(x.shape)\n",
        "        x = self.conv1(x, edge_index, edge_attr).tanh()\n",
        "        # print(x.shape)\n",
        "        x = self.conv2(x, edge_index, edge_attr).tanh()\n",
        "        return self.fc(x)\n",
        "\n",
        "# Dummy graph data setup\n",
        "# node_features = torch.rand(6, 3)  # 6 nodes with 3 features\n",
        "# edge_index = torch.tensor([[0, 1, 2, 3, 4], [1, 2, 3, 4, 5]], dtype=torch.long)\n",
        "# edge_features = torch.rand(5, 2)  # 5 edges with 2 features\n",
        "\n",
        "# graph_data = Data(x=node_features, edge_index=edge_index, edge_attr=edge_features)\n",
        "\n",
        "# model = EdgeFeatureGNN(input_dim=3, hidden_dim=8, edge_feature_dim=2, output_dim=1)\n",
        "# output = model(graph_data)\n",
        "# print(\"Node-level predictions shape:\", output.shape)"
      ],
      "metadata": {
        "id": "FnHVrVGpbZyn"
      },
      "execution_count": 24,
      "outputs": []
    },
    {
      "cell_type": "code",
      "source": [
        "model = EdgeFeatureGNN(input_dim=3, hidden_dim=16,\n",
        "                       edge_feature_dim=1, output_dim=1).to(device)\n",
        "optimizer = torch.optim.Adam(model.parameters(), lr=0.008)\n",
        "loss_fn = torch.nn.MSELoss()\n",
        "\n",
        "# Training loop\n",
        "epochs = 15000\n",
        "for epoch in range(epochs):\n",
        "    total_loss = 0\n",
        "    for batch in loader:\n",
        "        optimizer.zero_grad()\n",
        "\n",
        "        # Forward pass\n",
        "        out = model(batch.to(device))\n",
        "        loss = loss_fn(out, batch.y)\n",
        "        loss.backward()\n",
        "        optimizer.step()\n",
        "\n",
        "        total_loss += loss.item()\n",
        "\n",
        "    if((epoch+1)%200==0):\n",
        "      print(f\"Epoch {epoch + 1}, Loss: {total_loss:.4f}\")"
      ],
      "metadata": {
        "colab": {
          "base_uri": "https://localhost:8080/"
        },
        "id": "s_wSvfwSM3SB",
        "outputId": "f4e9a387-6497-4a4f-ada2-1349b67f46c0"
      },
      "execution_count": 25,
      "outputs": [
        {
          "output_type": "stream",
          "name": "stdout",
          "text": [
            "Epoch 200, Loss: 0.4301\n",
            "Epoch 400, Loss: 0.3693\n",
            "Epoch 600, Loss: 0.4324\n",
            "Epoch 800, Loss: 0.4274\n",
            "Epoch 1000, Loss: 0.4736\n",
            "Epoch 1200, Loss: 0.3856\n",
            "Epoch 1400, Loss: 0.3837\n",
            "Epoch 1600, Loss: 0.4526\n",
            "Epoch 1800, Loss: 0.4289\n",
            "Epoch 2000, Loss: 0.4062\n",
            "Epoch 2200, Loss: 0.4189\n",
            "Epoch 2400, Loss: 0.4063\n",
            "Epoch 2600, Loss: 0.4332\n",
            "Epoch 2800, Loss: 0.4079\n",
            "Epoch 3000, Loss: 0.4511\n",
            "Epoch 3200, Loss: 0.4528\n",
            "Epoch 3400, Loss: 0.4052\n",
            "Epoch 3600, Loss: 0.4328\n",
            "Epoch 3800, Loss: 0.3773\n",
            "Epoch 4000, Loss: 0.4277\n",
            "Epoch 4200, Loss: 0.3833\n",
            "Epoch 4400, Loss: 0.3877\n",
            "Epoch 4600, Loss: 0.4674\n",
            "Epoch 4800, Loss: 0.4550\n",
            "Epoch 5000, Loss: 0.3984\n",
            "Epoch 5200, Loss: 0.4570\n",
            "Epoch 5400, Loss: 0.4453\n",
            "Epoch 5600, Loss: 0.4462\n",
            "Epoch 5800, Loss: 0.3859\n",
            "Epoch 6000, Loss: 0.3706\n",
            "Epoch 6200, Loss: 0.3945\n",
            "Epoch 6400, Loss: 0.4144\n",
            "Epoch 6600, Loss: 0.3962\n",
            "Epoch 6800, Loss: 0.3961\n",
            "Epoch 7000, Loss: 0.4135\n",
            "Epoch 7200, Loss: 0.3744\n",
            "Epoch 7400, Loss: 0.4252\n",
            "Epoch 7600, Loss: 0.3982\n",
            "Epoch 7800, Loss: 0.4004\n",
            "Epoch 8000, Loss: 0.3804\n",
            "Epoch 8200, Loss: 0.3800\n",
            "Epoch 8400, Loss: 0.3553\n",
            "Epoch 8600, Loss: 0.3842\n",
            "Epoch 8800, Loss: 0.3917\n",
            "Epoch 9000, Loss: 0.3791\n",
            "Epoch 9200, Loss: 0.3630\n",
            "Epoch 9400, Loss: 0.3833\n",
            "Epoch 9600, Loss: 0.4006\n",
            "Epoch 9800, Loss: 0.3604\n",
            "Epoch 10000, Loss: 0.3720\n",
            "Epoch 10200, Loss: 0.4178\n",
            "Epoch 10400, Loss: 0.4380\n",
            "Epoch 10600, Loss: 0.3571\n",
            "Epoch 10800, Loss: 0.4277\n",
            "Epoch 11000, Loss: 0.3615\n",
            "Epoch 11200, Loss: 0.4264\n",
            "Epoch 11400, Loss: 0.3549\n",
            "Epoch 11600, Loss: 0.3601\n",
            "Epoch 11800, Loss: 0.3715\n",
            "Epoch 12000, Loss: 0.4181\n",
            "Epoch 12200, Loss: 0.3919\n",
            "Epoch 12400, Loss: 0.3904\n",
            "Epoch 12600, Loss: 0.4007\n",
            "Epoch 12800, Loss: 0.4133\n",
            "Epoch 13000, Loss: 0.4310\n",
            "Epoch 13200, Loss: 0.3712\n",
            "Epoch 13400, Loss: 0.4316\n",
            "Epoch 13600, Loss: 0.3591\n",
            "Epoch 13800, Loss: 0.4201\n",
            "Epoch 14000, Loss: 0.3590\n",
            "Epoch 14200, Loss: 0.4014\n",
            "Epoch 14400, Loss: 0.4307\n",
            "Epoch 14600, Loss: 0.4324\n",
            "Epoch 14800, Loss: 0.3870\n",
            "Epoch 15000, Loss: 0.3613\n"
          ]
        }
      ]
    },
    {
      "cell_type": "code",
      "source": [
        "import matplotlib.pyplot as plt\n",
        "\n",
        "test_loader = DataLoader(graphs, batch_size=1, shuffle=True)\n",
        "\n",
        "\n",
        "for batch in test_loader:\n",
        "        # Forward pass\n",
        "    out_T = model(batch.to(device)).cpu().detach().numpy()\n",
        "    print(out_T.shape)\n",
        "\n",
        "plt.plot(out_T,'b')\n",
        "plt.plot(T_output.reshape(-1,1),'r')"
      ],
      "metadata": {
        "colab": {
          "base_uri": "https://localhost:8080/",
          "height": 629
        },
        "id": "Q-B0LvDinpV8",
        "outputId": "2d6b2a90-34de-4b6f-ec57-b92cc1944a08"
      },
      "execution_count": 26,
      "outputs": [
        {
          "output_type": "stream",
          "name": "stdout",
          "text": [
            "(122, 1)\n",
            "(176, 1)\n",
            "(224, 1)\n",
            "(291, 1)\n",
            "(95, 1)\n",
            "(360, 1)\n",
            "(224, 1)\n",
            "(122, 1)\n",
            "(95, 1)\n",
            "(137, 1)\n"
          ]
        },
        {
          "output_type": "execute_result",
          "data": {
            "text/plain": [
              "[<matplotlib.lines.Line2D at 0x7d1fe8a60e90>]"
            ]
          },
          "metadata": {},
          "execution_count": 26
        },
        {
          "output_type": "display_data",
          "data": {
            "text/plain": [
              "<Figure size 640x480 with 1 Axes>"
            ],
            "image/png": "[encoded data removed]"
          },
          "metadata": {}
        }
      ]
    }
  ]
}