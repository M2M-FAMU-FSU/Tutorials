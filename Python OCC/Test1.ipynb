{
 "cells": [
  {
   "cell_type": "code",
   "execution_count": 1,
   "metadata": {},
   "outputs": [
    {
     "ename": "ModuleNotFoundError",
     "evalue": "No module named 'OCC'",
     "output_type": "error",
     "traceback": [
      "\u001b[1;31m---------------------------------------------------------------------------\u001b[0m",
      "\u001b[1;31mModuleNotFoundError\u001b[0m                       Traceback (most recent call last)",
      "Cell \u001b[1;32mIn[1], line 1\u001b[0m\n\u001b[1;32m----> 1\u001b[0m \u001b[38;5;28;01mfrom\u001b[39;00m \u001b[38;5;21;01mOCC\u001b[39;00m\u001b[38;5;21;01m.\u001b[39;00m\u001b[38;5;21;01mCore\u001b[39;00m\u001b[38;5;21;01m.\u001b[39;00m\u001b[38;5;21;01mBRepPrimAPI\u001b[39;00m \u001b[38;5;28;01mimport\u001b[39;00m BRepPrimAPI_MakeCylinder\n\u001b[0;32m      2\u001b[0m \u001b[38;5;28;01mfrom\u001b[39;00m \u001b[38;5;21;01mOCC\u001b[39;00m\u001b[38;5;21;01m.\u001b[39;00m\u001b[38;5;21;01mDisplay\u001b[39;00m\u001b[38;5;21;01m.\u001b[39;00m\u001b[38;5;21;01mSimpleGui\u001b[39;00m \u001b[38;5;28;01mimport\u001b[39;00m init_display\n\u001b[0;32m      4\u001b[0m display, start_display, add_menu, add_function_to_menu \u001b[38;5;241m=\u001b[39m init_display()\n",
      "\u001b[1;31mModuleNotFoundError\u001b[0m: No module named 'OCC'"
     ]
    }
   ],
   "source": [
    "# from OCC.Core.BRepPrimAPI import BRepPrimAPI_MakeCylinder\n",
    "# from OCC.Display.SimpleGui import init_display\n",
    "\n",
    "# display, start_display, add_menu, add_function_to_menu = init_display()\n",
    "\n",
    "# cylinder = BRepPrimAPI_MakeCylinder(10, 50).Shape()\n",
    "\n",
    "# display.DisplayShape(cylinder)\n",
    "# start_display()"
   ]
  },
  {
   "cell_type": "code",
   "execution_count": null,
   "metadata": {},
   "outputs": [],
   "source": [
    "#IF NOT WORKING AFTER INSTALLING PYTHONOCC in command line, install again on coda\n",
    "#conda install -c conda-forge pythonocc-core=7.8.1.1\n",
    "#conda install -c conda-forge pythreejs"
   ]
  },
  {
   "cell_type": "code",
   "execution_count": 1,
   "metadata": {},
   "outputs": [],
   "source": [
    "\n",
    "from OCC.Display.WebGl.jupyter_renderer import JupyterRenderer\n",
    "from OCC.Core.BRepPrimAPI import (\n",
    "    BRepPrimAPI_MakeBox,\n",
    "    BRepPrimAPI_MakeSphere,\n",
    "    BRepPrimAPI_MakeCylinder,\n",
    ")\n",
    "from OCC.Core.gp import gp_Pnt"
   ]
  },
  {
   "cell_type": "code",
   "execution_count": 2,
   "metadata": {},
   "outputs": [],
   "source": [
    "my_renderer = JupyterRenderer()"
   ]
  },
  {
   "cell_type": "code",
   "execution_count": 3,
   "metadata": {},
   "outputs": [],
   "source": [
    "box_shape = BRepPrimAPI_MakeBox(10, 20, 30).Shape()\n",
    "cylinder_shape = BRepPrimAPI_MakeCylinder(10, 30).Shape()"
   ]
  },
  {
   "cell_type": "code",
   "execution_count": 4,
   "metadata": {},
   "outputs": [],
   "source": [
    "vertices = [gp_Pnt(5, 10, 40), gp_Pnt(10, -4, -10)]\n",
    "my_renderer.DisplayShape(vertices)"
   ]
  },
  {
   "cell_type": "code",
   "execution_count": 6,
   "metadata": {},
   "outputs": [
    {
     "data": {
      "application/vnd.jupyter.widget-view+json": {
       "model_id": "db27a3e0dde74767b6202637bb046925",
       "version_major": 2,
       "version_minor": 0
      },
      "text/plain": [
       "HBox(children=(VBox(children=(HBox(children=(Checkbox(value=True, description='Axes', layout=Layout(height='au…"
      ]
     },
     "metadata": {},
     "output_type": "display_data"
    }
   ],
   "source": [
    "my_renderer.DisplayShape(\n",
    "    box_shape,\n",
    "    render_edges=True,\n",
    "    topo_level=\"Face\",\n",
    "    shape_color=\"#abdda4\",\n",
    "    update=True,\n",
    ")"
   ]
  }
 ],
 "metadata": {
  "kernelspec": {
   "display_name": "pyoccenv",
   "language": "python",
   "name": "python3"
  },
  "language_info": {
   "codemirror_mode": {
    "name": "ipython",
    "version": 3
   },
   "file_extension": ".py",
   "mimetype": "text/x-python",
   "name": "python",
   "nbconvert_exporter": "python",
   "pygments_lexer": "ipython3",
   "version": "3.10.16"
  }
 },
 "nbformat": 4,
 "nbformat_minor": 2
}
