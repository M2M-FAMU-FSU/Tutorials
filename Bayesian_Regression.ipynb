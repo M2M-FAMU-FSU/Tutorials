{
 "cells": [
  {
   "cell_type": "code",
   "execution_count": null,
   "id": "85dfdeaa",
   "metadata": {},
   "outputs": [],
   "source": [
    "import numpy as np"
   ]
  },
  {
   "cell_type": "markdown",
   "id": "06a8a0b9",
   "metadata": {},
   "source": [
    "# Bayesian Linear Regression\n",
    "Following roughly Rasmussen and Williams (2006)\n",
    "\n",
    "Assuming $n$ data points $(X^{D}_{n \\times d},Y^{D}_{n \\times 1})$ with each $\\vec{x}_i$ is a $d$-dimensional vector. $D$ denotes 'Data'.\n",
    "\n",
    "$$\n",
    "X = \\begin{bmatrix}\n",
    "\\cdots x_1^T \\cdots \\\\\n",
    "\\cdots x_2^T \\cdots \\\\\n",
    "\\vdots \\\\\n",
    "\\cdots x_i^T \\cdots\\\\\n",
    "\\vdots \\\\\n",
    "\\cdots x_n^T \\cdots \n",
    "\\end{bmatrix}_{n \\times d}\n",
    "$$\n",
    "\n",
    "### Generating fake data"
   ]
  },
  {
   "cell_type": "code",
   "execution_count": null,
   "id": "74c8671b",
   "metadata": {},
   "outputs": [],
   "source": [
    "n = 100\n",
    "d = 10\n",
    "X = np.random.randn(n, d) \n"
   ]
  },
  {
   "cell_type": "markdown",
   "id": "e8391044",
   "metadata": {},
   "source": [
    "Given this data, our model must predict $y_*$ for a given $x_*^T$: not a single $y_*$ but a whole bunch of possible values with its probability distribution.\n",
    "\n",
    "**Goal:** Mathematically, predict $p(y_*|x_*^T, X^D,Y^D)$\n",
    "\n",
    "**Sub Goal:** Find a bunch of functions that represents the existing data $D$ (with a probability distribution), so that when given $x_*^T$, you can just evaluate those functions. \n",
    "\n",
    "Assuming a function model to the data... *(Assumption 1: linear model with continuously distributed $W$)*\n",
    "\n",
    "\n",
    "$Y = X W_{d \\times 1} + \\vec{\\epsilon}_{n \\times 1}$\n",
    "\n",
    "* Q: What is this $\\epsilon$ and why do we need it?\n",
    "    - A: Say, our model is just $Y = XW$, then the $P(X^D,Y^D|W) \\equiv P(D|W) = 0$. This comes from the fundamental result that probability of any given point in a continuous distribution is zero. Essentially, $\\epsilon$ allows non zero \n",
    "    - Sub Q: What if $W$ assumes only discrete values? \n",
    "        - Then, you do not need $\\epsilon$! But then, unfortunately you cannot fit any data you obtain from real world with \"unknown origin\".\n",
    "    \n",
    "\n",
    "\n",
    "\n"
   ]
  },
  {
   "cell_type": "code",
   "execution_count": null,
   "id": "b3cba26d",
   "metadata": {},
   "outputs": [
    {
     "ename": "SyntaxError",
     "evalue": "invalid syntax (942902394.py, line 1)",
     "output_type": "error",
     "traceback": [
      "  \u001b[36mCell\u001b[39m\u001b[36m \u001b[39m\u001b[32mIn[1]\u001b[39m\u001b[32m, line 1\u001b[39m\n\u001b[31m    \u001b[39m\u001b[31m**Assuming model to the data...**\u001b[39m\n    ^\n\u001b[31mSyntaxError\u001b[39m\u001b[31m:\u001b[39m invalid syntax\n"
     ]
    }
   ],
   "source": []
  },
  {
   "cell_type": "markdown",
   "id": "07ed74d1",
   "metadata": {},
   "source": [
    "Assuming $\\epsilon_i \\sim \\mathcal{N}(0,\\sigma_{\\epsilon}^2)$  *(Assumption 2: zero mean, unknown variance Gaussian noise)*\n",
    "\n",
    "\n",
    "\n",
    "\n",
    "$p(Y|X,W) = p((y_1,y_2,\\cdots,y_n)|(x_1^T, x_2^T, \\cdots, x_n^T ), W)$\n",
    "\n",
    "Assuming independence (along with identically normal distributed) (i.i.d) \n",
    "\n",
    "$\\implies p(Y|X,W) = \\Pi_{i=1}^{n} p(y_i|x_i^T,W)$"
   ]
  }
 ],
 "metadata": {
  "kernelspec": {
   "display_name": "statistics_env",
   "language": "python",
   "name": "python3"
  },
  "language_info": {
   "codemirror_mode": {
    "name": "ipython",
    "version": 3
   },
   "file_extension": ".py",
   "mimetype": "text/x-python",
   "name": "python",
   "nbconvert_exporter": "python",
   "pygments_lexer": "ipython3",
   "version": "3.10.12"
  }
 },
 "nbformat": 4,
 "nbformat_minor": 5
}
